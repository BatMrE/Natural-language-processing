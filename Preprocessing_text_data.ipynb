{
 "cells": [
  {
   "cell_type": "markdown",
   "id": "035f26e3",
   "metadata": {
    "papermill": {
     "duration": 0.005612,
     "end_time": "2022-10-05T18:31:46.654982",
     "exception": false,
     "start_time": "2022-10-05T18:31:46.649370",
     "status": "completed"
    },
    "tags": []
   },
   "source": [
    "Processing text data comes under Natural Language Processing which is a wide array of techniques designed to help machines learn from text.\n",
    "\n",
    "Following are the techniques used for text preprocessing\n",
    "*     Lower/Upper casing\n",
    "*     Removing Punctuations\n",
    "*     Removal of common words\n",
    "*     Removal of rare words\n",
    "*     Removing IconsRemoval of URLs\n",
    "*     Removal of URLs\n",
    "*     Removal of HTML tags\n",
    "*     Remove Stop Words (or/and Frequent words/ Rare words)\n",
    "\n",
    "These topics are a very common and basic question asked in all data science interviews, we will understand and write codes for each of them\n",
    "\n",
    "**<span style=\"color:Red\">Please give suggestions for improvements**\n",
    "\n",
    "I will keep on updating this notebook based on more topic or any suggestions"
   ]
  },
  {
   "cell_type": "code",
   "execution_count": 1,
   "id": "0d32c052",
   "metadata": {
    "execution": {
     "iopub.execute_input": "2022-10-05T18:31:46.666307Z",
     "iopub.status.busy": "2022-10-05T18:31:46.665832Z",
     "iopub.status.idle": "2022-10-05T18:32:00.016157Z",
     "shell.execute_reply": "2022-10-05T18:32:00.014209Z"
    },
    "papermill": {
     "duration": 13.359517,
     "end_time": "2022-10-05T18:32:00.019171",
     "exception": false,
     "start_time": "2022-10-05T18:31:46.659654",
     "status": "completed"
    },
    "tags": []
   },
   "outputs": [],
   "source": [
    "import numpy as np\n",
    "import pandas as pd\n",
    "import re\n",
    "import nltk\n",
    "import spacy\n",
    "import string"
   ]
  },
  {
   "cell_type": "markdown",
   "id": "18198561",
   "metadata": {
    "papermill": {
     "duration": 0.004506,
     "end_time": "2022-10-05T18:32:00.028821",
     "exception": false,
     "start_time": "2022-10-05T18:32:00.024315",
     "status": "completed"
    },
    "tags": []
   },
   "source": []
  },
  {
   "cell_type": "markdown",
   "id": "4019ee80",
   "metadata": {
    "papermill": {
     "duration": 0.004693,
     "end_time": "2022-10-05T18:32:00.038356",
     "exception": false,
     "start_time": "2022-10-05T18:32:00.033663",
     "status": "completed"
    },
    "tags": []
   },
   "source": [
    "## Lower/Upper casing\n",
    "\n",
    "Lower/Upper casing is a common text preprocessing technique. The logic is to convert the saple data into same casing format so that 'data', 'Data' and 'DATA' are treated the same way.\n",
    "\n",
    "It also helps in reducing the duplication and vocabulary size of the dataset"
   ]
  },
  {
   "cell_type": "code",
   "execution_count": 2,
   "id": "73bfe9c8",
   "metadata": {
    "execution": {
     "iopub.execute_input": "2022-10-05T18:32:00.050172Z",
     "iopub.status.busy": "2022-10-05T18:32:00.049572Z",
     "iopub.status.idle": "2022-10-05T18:32:00.055976Z",
     "shell.execute_reply": "2022-10-05T18:32:00.054511Z"
    },
    "papermill": {
     "duration": 0.015089,
     "end_time": "2022-10-05T18:32:00.058376",
     "exception": false,
     "start_time": "2022-10-05T18:32:00.043287",
     "status": "completed"
    },
    "tags": []
   },
   "outputs": [
    {
     "name": "stdout",
     "output_type": "stream",
     "text": [
      "lower case:  this is a example of upper and lower case \n",
      "upper case:  THIS IS A EXAMPLE OF UPPER AND LOWER CASE \n"
     ]
    }
   ],
   "source": [
    "data = \"This is a Example of UPPER and lower case \"\n",
    "print(\"lower case: \",data.lower())\n",
    "print(\"upper case: \",data.upper())"
   ]
  },
  {
   "cell_type": "markdown",
   "id": "b1ab8dd9",
   "metadata": {
    "papermill": {
     "duration": 0.004404,
     "end_time": "2022-10-05T18:32:00.068148",
     "exception": false,
     "start_time": "2022-10-05T18:32:00.063744",
     "status": "completed"
    },
    "tags": []
   },
   "source": []
  },
  {
   "cell_type": "markdown",
   "id": "49627766",
   "metadata": {
    "papermill": {
     "duration": 0.004601,
     "end_time": "2022-10-05T18:32:00.078011",
     "exception": false,
     "start_time": "2022-10-05T18:32:00.073410",
     "status": "completed"
    },
    "tags": []
   },
   "source": [
    "## Removing Punctuations\n",
    "\n",
    "Removing punctuations from the textual data helps to treat each text equally. For example, the word 'data' and 'data!' are treated equally after the process of removal of punctuations\n"
   ]
  },
  {
   "cell_type": "code",
   "execution_count": 3,
   "id": "ebc9acc3",
   "metadata": {
    "execution": {
     "iopub.execute_input": "2022-10-05T18:32:00.089105Z",
     "iopub.status.busy": "2022-10-05T18:32:00.088746Z",
     "iopub.status.idle": "2022-10-05T18:32:00.094628Z",
     "shell.execute_reply": "2022-10-05T18:32:00.093693Z"
    },
    "papermill": {
     "duration": 0.014439,
     "end_time": "2022-10-05T18:32:00.097222",
     "exception": false,
     "start_time": "2022-10-05T18:32:00.082783",
     "status": "completed"
    },
    "tags": []
   },
   "outputs": [
    {
     "name": "stdout",
     "output_type": "stream",
     "text": [
      "Hi this is a example a Punctuation example\n"
     ]
    }
   ],
   "source": [
    "PUNCT_TO_REMOVE = string.punctuation\n",
    "def remove_punctuation(text):\n",
    "    print(text.translate(str.maketrans('', '', PUNCT_TO_REMOVE)))\n",
    "\n",
    "text_data = \"Hi!! this is a example, a Punctuation example...\"\n",
    "remove_punctuation(text_data)"
   ]
  },
  {
   "cell_type": "markdown",
   "id": "556754fc",
   "metadata": {
    "papermill": {
     "duration": 0.004821,
     "end_time": "2022-10-05T18:32:00.107444",
     "exception": false,
     "start_time": "2022-10-05T18:32:00.102623",
     "status": "completed"
    },
    "tags": []
   },
   "source": []
  },
  {
   "cell_type": "markdown",
   "id": "8193b8a6",
   "metadata": {
    "papermill": {
     "duration": 0.004844,
     "end_time": "2022-10-05T18:32:00.117393",
     "exception": false,
     "start_time": "2022-10-05T18:32:00.112549",
     "status": "completed"
    },
    "tags": []
   },
   "source": [
    "## Removal of common words\n",
    "\n",
    "We might have some frequent words which are of not so much importance to us and appear commonly in our dataset\n",
    "\n",
    "This step is to remove the common words in the given dataset"
   ]
  },
  {
   "cell_type": "code",
   "execution_count": 4,
   "id": "9eccd15f",
   "metadata": {
    "execution": {
     "iopub.execute_input": "2022-10-05T18:32:00.128818Z",
     "iopub.status.busy": "2022-10-05T18:32:00.128431Z",
     "iopub.status.idle": "2022-10-05T18:32:00.136840Z",
     "shell.execute_reply": "2022-10-05T18:32:00.136036Z"
    },
    "papermill": {
     "duration": 0.016271,
     "end_time": "2022-10-05T18:32:00.138603",
     "exception": false,
     "start_time": "2022-10-05T18:32:00.122332",
     "status": "completed"
    },
    "tags": []
   },
   "outputs": [
    {
     "data": {
      "text/plain": [
       "[('words', 3), ('a', 2), ('common', 2)]"
      ]
     },
     "execution_count": 4,
     "metadata": {},
     "output_type": "execute_result"
    }
   ],
   "source": [
    "from collections import Counter\n",
    "counter = Counter()\n",
    "\n",
    "text_data = \"This is a example of removing common words a common words are words that appear frequetly\"\n",
    "for word in text_data.split():\n",
    "    counter[word] += 1\n",
    "        \n",
    "counter.most_common(3)"
   ]
  },
  {
   "cell_type": "code",
   "execution_count": 5,
   "id": "333524b7",
   "metadata": {
    "execution": {
     "iopub.execute_input": "2022-10-05T18:32:00.151176Z",
     "iopub.status.busy": "2022-10-05T18:32:00.150830Z",
     "iopub.status.idle": "2022-10-05T18:32:00.156998Z",
     "shell.execute_reply": "2022-10-05T18:32:00.155693Z"
    },
    "papermill": {
     "duration": 0.01546,
     "end_time": "2022-10-05T18:32:00.159216",
     "exception": false,
     "start_time": "2022-10-05T18:32:00.143756",
     "status": "completed"
    },
    "tags": []
   },
   "outputs": [
    {
     "name": "stdout",
     "output_type": "stream",
     "text": [
      "['This', 'is', 'example', 'of', 'removing', 'are', 'that', 'appear', 'frequetly']\n"
     ]
    }
   ],
   "source": [
    "COMMWORDS = set([w for (w, wc) in counter.most_common(3)])\n",
    "def remove_freqwords(text):\n",
    "    print([word for word in str(text).split() if word not in COMMWORDS])\n",
    "\n",
    "remove_freqwords(text_data)"
   ]
  },
  {
   "cell_type": "markdown",
   "id": "338d3d89",
   "metadata": {
    "papermill": {
     "duration": 0.004736,
     "end_time": "2022-10-05T18:32:00.169155",
     "exception": false,
     "start_time": "2022-10-05T18:32:00.164419",
     "status": "completed"
    },
    "tags": []
   },
   "source": []
  },
  {
   "cell_type": "markdown",
   "id": "a09ccfcd",
   "metadata": {
    "papermill": {
     "duration": 0.004523,
     "end_time": "2022-10-05T18:32:00.178447",
     "exception": false,
     "start_time": "2022-10-05T18:32:00.173924",
     "status": "completed"
    },
    "tags": []
   },
   "source": [
    "## Removal of rare words\n",
    "\n",
    "Unlike common words, rare words are those words which occur very rarely in our dataset, also it might not add any benefit to our analysis.\n",
    "\n",
    "In some cases you can consider it to be an outlier"
   ]
  },
  {
   "cell_type": "code",
   "execution_count": 6,
   "id": "1f983878",
   "metadata": {
    "execution": {
     "iopub.execute_input": "2022-10-05T18:32:00.189930Z",
     "iopub.status.busy": "2022-10-05T18:32:00.189607Z",
     "iopub.status.idle": "2022-10-05T18:32:00.198321Z",
     "shell.execute_reply": "2022-10-05T18:32:00.197015Z"
    },
    "papermill": {
     "duration": 0.016867,
     "end_time": "2022-10-05T18:32:00.200255",
     "exception": false,
     "start_time": "2022-10-05T18:32:00.183388",
     "status": "completed"
    },
    "tags": []
   },
   "outputs": [
    {
     "name": "stdout",
     "output_type": "stream",
     "text": [
      "Rare words:  {'appear', 'that', 'frequetly'}\n"
     ]
    },
    {
     "data": {
      "text/plain": [
       "['This',\n",
       " 'is',\n",
       " 'a',\n",
       " 'example',\n",
       " 'of',\n",
       " 'removing',\n",
       " 'common',\n",
       " 'words',\n",
       " 'a',\n",
       " 'common',\n",
       " 'words',\n",
       " 'are',\n",
       " 'words']"
      ]
     },
     "execution_count": 6,
     "metadata": {},
     "output_type": "execute_result"
    }
   ],
   "source": [
    "n_rare_words = 3\n",
    "RAREWORDS = set([w for (w, wc) in counter.most_common()[:-n_rare_words-1:-1]])\n",
    "print(\"Rare words: \",RAREWORDS)\n",
    "def remove_rarewords(text):\n",
    "    return ([word for word in str(text).split() if word not in RAREWORDS])\n",
    "\n",
    "text_data = \"This is a example of removing common words a common words are words that appear frequetly\"\n",
    "remove_rarewords(text_data)"
   ]
  },
  {
   "cell_type": "markdown",
   "id": "ec8246b8",
   "metadata": {
    "papermill": {
     "duration": 0.004865,
     "end_time": "2022-10-05T18:32:00.210333",
     "exception": false,
     "start_time": "2022-10-05T18:32:00.205468",
     "status": "completed"
    },
    "tags": []
   },
   "source": []
  },
  {
   "cell_type": "markdown",
   "id": "c8056025",
   "metadata": {
    "papermill": {
     "duration": 0.005069,
     "end_time": "2022-10-05T18:32:00.220579",
     "exception": false,
     "start_time": "2022-10-05T18:32:00.215510",
     "status": "completed"
    },
    "tags": []
   },
   "source": [
    "## Removing Icons\n",
    "\n",
    "People tend to use casual language and express there emotions using Icones or Emoji in social media platforms, there is an trend in the usage of emojis in our day to day life as well. Probably we might need to remove these emojis for some of our textual analysis.\n"
   ]
  },
  {
   "cell_type": "code",
   "execution_count": 7,
   "id": "4f2baa07",
   "metadata": {
    "execution": {
     "iopub.execute_input": "2022-10-05T18:32:00.232877Z",
     "iopub.status.busy": "2022-10-05T18:32:00.232539Z",
     "iopub.status.idle": "2022-10-05T18:32:00.244605Z",
     "shell.execute_reply": "2022-10-05T18:32:00.243343Z"
    },
    "papermill": {
     "duration": 0.021368,
     "end_time": "2022-10-05T18:32:00.246789",
     "exception": false,
     "start_time": "2022-10-05T18:32:00.225421",
     "status": "completed"
    },
    "tags": []
   },
   "outputs": [
    {
     "data": {
      "text/plain": [
       "' This is a example to remove Icone or emoji '"
      ]
     },
     "execution_count": 7,
     "metadata": {},
     "output_type": "execute_result"
    }
   ],
   "source": [
    "# Reference : https://gist.github.com/slowkow/7a7f61f495e3dbb7e3d767f97bd7304b\n",
    "def remove_emoji(string):\n",
    "    emoji_pattern = re.compile(\"[\"\n",
    "                           u\"\\U0001F600-\\U0001F64F\"  # emoticons\n",
    "                           u\"\\U0001F300-\\U0001F5FF\"  # symbols & pictographs\n",
    "                           u\"\\U0001F680-\\U0001F6FF\"  # transport & map symbols\n",
    "                           u\"\\U0001F1E0-\\U0001F1FF\"  # flags (iOS)\n",
    "                           u\"\\U00002702-\\U000027B0\"\n",
    "                           u\"\\U000024C2-\\U0001F251\"\n",
    "                           \"]+\", flags=re.UNICODE)\n",
    "    return emoji_pattern.sub(r'', string)\n",
    "\n",
    "remove_emoji(\"✨ This is a example to remove Icone or emoji 🔥🔥\")"
   ]
  },
  {
   "cell_type": "markdown",
   "id": "7d3630a9",
   "metadata": {
    "papermill": {
     "duration": 0.006326,
     "end_time": "2022-10-05T18:32:00.258720",
     "exception": false,
     "start_time": "2022-10-05T18:32:00.252394",
     "status": "completed"
    },
    "tags": []
   },
   "source": []
  },
  {
   "cell_type": "markdown",
   "id": "1fe73075",
   "metadata": {
    "papermill": {
     "duration": 0.005307,
     "end_time": "2022-10-05T18:32:00.269762",
     "exception": false,
     "start_time": "2022-10-05T18:32:00.264455",
     "status": "completed"
    },
    "tags": []
   },
   "source": [
    "## Removal of URLs\n",
    "\n",
    "This is a very common case, asked in many interviews also. URLs redirect to a page which explains or have data related to that topic\n",
    "\n",
    "In a dataset url might not contribute in any positive value"
   ]
  },
  {
   "cell_type": "code",
   "execution_count": 8,
   "id": "5e3ed5e4",
   "metadata": {
    "execution": {
     "iopub.execute_input": "2022-10-05T18:32:00.282661Z",
     "iopub.status.busy": "2022-10-05T18:32:00.282307Z",
     "iopub.status.idle": "2022-10-05T18:32:00.289222Z",
     "shell.execute_reply": "2022-10-05T18:32:00.287751Z"
    },
    "papermill": {
     "duration": 0.016036,
     "end_time": "2022-10-05T18:32:00.291582",
     "exception": false,
     "start_time": "2022-10-05T18:32:00.275546",
     "status": "completed"
    },
    "tags": []
   },
   "outputs": [
    {
     "name": "stdout",
     "output_type": "stream",
     "text": [
      "This is a expample to remove  this url\n"
     ]
    }
   ],
   "source": [
    "def remove_url(text):\n",
    "    print(re.sub(r\"https?://\\S+|www\\.\\S+\", \"\", text))\n",
    "    \n",
    "text_data = \"This is a expample to remove http://example.com this url\"\n",
    "remove_url(text_data)"
   ]
  },
  {
   "cell_type": "markdown",
   "id": "08e767ae",
   "metadata": {
    "papermill": {
     "duration": 0.005242,
     "end_time": "2022-10-05T18:32:00.302498",
     "exception": false,
     "start_time": "2022-10-05T18:32:00.297256",
     "status": "completed"
    },
    "tags": []
   },
   "source": []
  },
  {
   "cell_type": "markdown",
   "id": "7e6777a2",
   "metadata": {
    "papermill": {
     "duration": 0.005068,
     "end_time": "2022-10-05T18:32:00.313261",
     "exception": false,
     "start_time": "2022-10-05T18:32:00.308193",
     "status": "completed"
    },
    "tags": []
   },
   "source": [
    "## Removal of HTML tags\n",
    "\n",
    "HTML tags are used for frontend layout of a website.\n",
    "\n",
    "When you fetch some data, or web scrape some data, you might get some HTML tage or if you have a dataset where these tags are not needed you can remove them"
   ]
  },
  {
   "cell_type": "code",
   "execution_count": 9,
   "id": "a6cc00a2",
   "metadata": {
    "execution": {
     "iopub.execute_input": "2022-10-05T18:32:00.325423Z",
     "iopub.status.busy": "2022-10-05T18:32:00.325093Z",
     "iopub.status.idle": "2022-10-05T18:32:00.332385Z",
     "shell.execute_reply": "2022-10-05T18:32:00.330351Z"
    },
    "papermill": {
     "duration": 0.016398,
     "end_time": "2022-10-05T18:32:00.334771",
     "exception": false,
     "start_time": "2022-10-05T18:32:00.318373",
     "status": "completed"
    },
    "tags": []
   },
   "outputs": [
    {
     "name": "stdout",
     "output_type": "stream",
     "text": [
      "This is a \n",
      "                example to remove HTML tags\n",
      "            \n"
     ]
    }
   ],
   "source": [
    "def remove_tags(text):\n",
    "    html = re.compile(r\"<.*?>|&([a-z0-9]+|#[0-9]{1,6}|#x[0-9a-f]{1,6});\")\n",
    "    print(re.sub(html, \"\", text))\n",
    "    \n",
    "text_data = '''<b>This is a </br>\n",
    "                <p>example to remove HTML tags</p>\n",
    "            '''\n",
    "remove_tags(text_data)"
   ]
  },
  {
   "cell_type": "markdown",
   "id": "ff42c7bd",
   "metadata": {
    "papermill": {
     "duration": 0.00544,
     "end_time": "2022-10-05T18:32:00.345977",
     "exception": false,
     "start_time": "2022-10-05T18:32:00.340537",
     "status": "completed"
    },
    "tags": []
   },
   "source": []
  },
  {
   "cell_type": "markdown",
   "id": "760c7e12",
   "metadata": {
    "papermill": {
     "duration": 0.005244,
     "end_time": "2022-10-05T18:32:00.356714",
     "exception": false,
     "start_time": "2022-10-05T18:32:00.351470",
     "status": "completed"
    },
    "tags": []
   },
   "source": [
    "## Remove Stop Words\n",
    "\n",
    "Stopwords are commonly occuring words in a language like 'an','the', 'a' and so on. \n",
    "\n",
    "Usually they donot contain any valuable information for analysis task and can be removed"
   ]
  },
  {
   "cell_type": "code",
   "execution_count": 10,
   "id": "8d3ef71a",
   "metadata": {
    "execution": {
     "iopub.execute_input": "2022-10-05T18:32:00.369034Z",
     "iopub.status.busy": "2022-10-05T18:32:00.368345Z",
     "iopub.status.idle": "2022-10-05T18:32:00.384057Z",
     "shell.execute_reply": "2022-10-05T18:32:00.382507Z"
    },
    "papermill": {
     "duration": 0.023972,
     "end_time": "2022-10-05T18:32:00.386071",
     "exception": false,
     "start_time": "2022-10-05T18:32:00.362099",
     "status": "completed"
    },
    "tags": []
   },
   "outputs": [
    {
     "name": "stdout",
     "output_type": "stream",
     "text": [
      "['This', 'example', 'remove', 'stop', 'words']\n"
     ]
    }
   ],
   "source": [
    "from nltk.corpus import stopwords\n",
    "stop_words = set(stopwords.words('english'))\n",
    "def remove_stopwords(text):\n",
    "    print([word for word in str(text).split() if word not in stop_words])\n",
    "\n",
    "text_data = \"This is a example to remove stop words\"\n",
    "remove_stopwords(text_data)\n"
   ]
  }
 ],
 "metadata": {
  "kernelspec": {
   "display_name": "Python 3",
   "language": "python",
   "name": "python3"
  },
  "language_info": {
   "codemirror_mode": {
    "name": "ipython",
    "version": 3
   },
   "file_extension": ".py",
   "mimetype": "text/x-python",
   "name": "python",
   "nbconvert_exporter": "python",
   "pygments_lexer": "ipython3",
   "version": "3.7.12"
  },
  "papermill": {
   "default_parameters": {},
   "duration": 25.040939,
   "end_time": "2022-10-05T18:32:03.544476",
   "environment_variables": {},
   "exception": null,
   "input_path": "__notebook__.ipynb",
   "output_path": "__notebook__.ipynb",
   "parameters": {},
   "start_time": "2022-10-05T18:31:38.503537",
   "version": "2.3.4"
  }
 },
 "nbformat": 4,
 "nbformat_minor": 5
}
